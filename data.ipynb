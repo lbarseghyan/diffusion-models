{
 "cells": [
  {
   "cell_type": "code",
   "execution_count": 1,
   "metadata": {},
   "outputs": [
    {
     "name": "stdout",
     "output_type": "stream",
     "text": [
      "Downloading https://www.cs.toronto.edu/~kriz/cifar-10-python.tar.gz to ../data/cifar-10-python.tar.gz\n"
     ]
    },
    {
     "name": "stderr",
     "output_type": "stream",
     "text": [
      "100%|██████████| 170498071/170498071 [02:11<00:00, 1298468.54it/s]\n"
     ]
    },
    {
     "name": "stdout",
     "output_type": "stream",
     "text": [
      "Extracting ../data/cifar-10-python.tar.gz to ../data\n",
      "Files already downloaded and verified\n",
      "Number of training images: 50000\n",
      "Number of test images: 10000\n"
     ]
    }
   ],
   "source": [
    "import torchvision\n",
    "import torchvision.transforms as transforms\n",
    "\n",
    "# Define a transform to convert images to tensors\n",
    "transform = transforms.ToTensor()\n",
    "\n",
    "# Download the training dataset\n",
    "trainset = torchvision.datasets.CIFAR10(root='./data', train=True, download=True, transform=transform)\n",
    "\n",
    "# Download the test dataset\n",
    "testset = torchvision.datasets.CIFAR10(root='./data', train=False, download=True, transform=transform)\n",
    "\n",
    "print(\"Number of training images:\", len(trainset))\n",
    "print(\"Number of test images:\", len(testset))\n"
   ]
  },
  {
   "cell_type": "code",
   "execution_count": 2,
   "metadata": {},
   "outputs": [],
   "source": [
    "import pickle\n",
    "from PIL import Image\n",
    "import os\n",
    "\n",
    "def unpickle(file):\n",
    "    with open(file, 'rb') as fo:\n",
    "        dict_data = pickle.load(fo, encoding='bytes')\n",
    "    return dict_data\n",
    "\n",
    "def save_images_from_batch(batch_file, output_folder):\n",
    "    # Create output directory if it doesn't exist\n",
    "    if not os.path.exists(output_folder):\n",
    "        os.makedirs(output_folder)\n",
    "\n",
    "    # Load the data batch\n",
    "    batch = unpickle(batch_file)\n",
    "    images = batch[b'data']      # shape (10000, 3072)\n",
    "    labels = batch[b'labels']    # labels if needed\n",
    "    # Optional: filenames might be provided\n",
    "    filenames = batch.get(b'filenames')\n",
    "\n",
    "    # Iterate through each image in the batch\n",
    "    for i in range(images.shape[0]):\n",
    "        # Reshape the flat array into 3x32x32 then transpose to 32x32x3\n",
    "        img_array = images[i].reshape(3, 32, 32).transpose(1, 2, 0)\n",
    "        img = Image.fromarray(img_array)\n",
    "\n",
    "        # Use the filename from the batch if available, otherwise generate one\n",
    "        if filenames is not None:\n",
    "            filename = filenames[i].decode('utf-8')  # Convert bytes to string\n",
    "        else:\n",
    "            filename = f\"img_{i}.png\"\n",
    "\n",
    "        # Save the image\n",
    "        img.save(os.path.join(output_folder, filename))"
   ]
  },
  {
   "cell_type": "code",
   "execution_count": 3,
   "metadata": {},
   "outputs": [
    {
     "name": "stdout",
     "output_type": "stream",
     "text": [
      "../data/cifar-10-batches-py/data_batch_1\n",
      "../data/cifar-10-batches-py/data_batch_2\n",
      "../data/cifar-10-batches-py/data_batch_5\n",
      "../data/cifar-10-batches-py/test_batch\n",
      "../data/cifar-10-batches-py/data_batch_4\n",
      "../data/cifar-10-batches-py/data_batch_3\n"
     ]
    }
   ],
   "source": [
    "import os\n",
    "\n",
    "data_folder = 'data/cifar-10-batches-py'\n",
    "train_folder = 'data/cifar-10/train_images'\n",
    "test_folder = 'data/cifar-10/test_images'\n",
    "\n",
    "for filename in os.listdir(data_folder):\n",
    "    if filename.startswith('data_batch_'):\n",
    "        filepath = os.path.join(data_folder, filename)\n",
    "        if os.path.isfile(filepath):\n",
    "                save_images_from_batch(filepath, train_folder)\n",
    "                print(filepath)\n",
    "    elif filename.startswith('test_batch'):\n",
    "        filepath = os.path.join(data_folder, filename)\n",
    "        if os.path.isfile(filepath):\n",
    "                save_images_from_batch(filepath, test_folder)\n",
    "                print(filepath)         \n"
   ]
  },
  {
   "cell_type": "code",
   "execution_count": 4,
   "metadata": {},
   "outputs": [
    {
     "name": "stdout",
     "output_type": "stream",
     "text": [
      "Successfully deleted the directory and all its contents: ../data/cifar-10-batches-py\n",
      "../data/cifar-10-python.tar.gz deleted successfully.\n"
     ]
    }
   ],
   "source": [
    "# Delete the unnecessary folder\n",
    "\n",
    "import shutil\n",
    "import os\n",
    "\n",
    "try:\n",
    "    shutil.rmtree(data_folder)\n",
    "    print(f\"Successfully deleted the directory and all its contents: {data_folder}\")\n",
    "except Exception as e:\n",
    "    print(f\"Error: {e}\")\n",
    "\n",
    "\n",
    "file_path = 'data/cifar-10-python.tar.gz'\n",
    "if os.path.exists(file_path):\n",
    "    os.remove(file_path)\n",
    "    print(f\"{file_path} deleted successfully.\")\n",
    "else:\n",
    "    print(f\"{file_path} does not exist.\")"
   ]
  }
 ],
 "metadata": {
  "kernelspec": {
   "display_name": "diff",
   "language": "python",
   "name": "python3"
  },
  "language_info": {
   "codemirror_mode": {
    "name": "ipython",
    "version": 3
   },
   "file_extension": ".py",
   "mimetype": "text/x-python",
   "name": "python",
   "nbconvert_exporter": "python",
   "pygments_lexer": "ipython3",
   "version": "3.12.0"
  }
 },
 "nbformat": 4,
 "nbformat_minor": 2
}
